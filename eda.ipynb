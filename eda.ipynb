{
 "cells": [
  {
   "cell_type": "code",
   "execution_count": null,
   "metadata": {},
   "outputs": [],
   "source": [
    "from pyspark.sql import SparkSession\n",
    "from pyspark import SparkConf\n",
    "from pyspark.sql.types import StructType, StructField, StringType, IntegerType, DoubleType\n",
    "from pyspark.sql.functions import regexp_replace, col\n",
    "import logging\n",
    "import os\n",
    "import configparser\n"
   ]
  },
  {
   "cell_type": "code",
   "execution_count": null,
   "metadata": {},
   "outputs": [],
   "source": [
    "config = configparser.RawConfigParser()\n",
    "path = os.path.join(os.path.expanduser('~'), '.aws/credentials')\n",
    "config.read(path)"
   ]
  },
  {
   "cell_type": "code",
   "execution_count": null,
   "metadata": {},
   "outputs": [],
   "source": [
    "conf = SparkConf()\n",
    "conf.set('spark.jars.packages', 'org.apache.hadoop:hadoop-aws:3.3.4')\n",
    "conf.set(\"fs.s3a.endpoint\", \"s3.amazonaws.com\")\n",
    "#conf.set('spark.hadoop.fs.s3a.aws.credentials.provider', 'org.apache.hadoop.fs.s3a.TemporaryAWSCredentialsProvider')\n",
    "conf.set('spark.hadoop.fs.s3a.access.key', config.get('datasouls', 'aws_access_key_id'))\n",
    "conf.set('spark.hadoop.fs.s3a.secret.key', config.get('datasouls', 'aws_secret_access_key'))\n",
    "conf.set('spark.executor.memory', '8g')\n",
    "conf.set('spark.driver.memory', '8g')\n",
    "conf.set('spark.executor.cores', '4')\n",
    "conf.set(\"spark.sql.execution.arrow.pyspark.enabled\", \"true\")"
   ]
  },
  {
   "cell_type": "code",
   "execution_count": null,
   "metadata": {},
   "outputs": [],
   "source": [
    "spark = SparkSession.builder.appName(\"eda\").config(conf=conf).getOrCreate()"
   ]
  },
  {
   "cell_type": "code",
   "execution_count": null,
   "metadata": {},
   "outputs": [],
   "source": [
    "schema_microdados = StructType([\n",
    "    StructField(\"NU_INSCRICAO\", IntegerType(), True),\n",
    "    StructField(\"NU_ANO\", IntegerType(), True),\n",
    "    StructField(\"TP_FAIXA_ETARIA\", IntegerType(), True),\n",
    "    StructField(\"TP_SEXO\", StringType(), True),\n",
    "    StructField(\"TP_ESTADO_CIVIL\", IntegerType(), True),\n",
    "    StructField(\"TP_COR_RACA\", IntegerType(), True),\n",
    "    StructField(\"TP_NACIONALIDADE\", IntegerType(), True),\n",
    "    StructField(\"TP_ST_CONCLUSAO\", IntegerType(), True),\n",
    "    StructField(\"TP_ANO_CONCLUIU\", IntegerType(), True),\n",
    "    StructField(\"TP_ESCOLA\", IntegerType(), True),\n",
    "    StructField(\"TP_ENSINO\", IntegerType(), True),\n",
    "    StructField(\"IN_TREINEIRO\", IntegerType(), True),\n",
    "    StructField(\"CO_MUNICIPIO_ESC\", IntegerType(), True),\n",
    "    StructField(\"NO_MUNICIPIO_ESC\", StringType(), True),\n",
    "    StructField(\"CO_UF_ESC\", IntegerType(), True),\n",
    "    StructField(\"SG_UF_ESC\", StringType(), True),\n",
    "    StructField(\"TP_DEPENDENCIA_ADM_ESC\", IntegerType(), True),\n",
    "    StructField(\"TP_LOCALIZACAO_ESC\", IntegerType(), True),\n",
    "    StructField(\"TP_SIT_FUNC_ESC\", IntegerType(), True),\n",
    "    StructField(\"CO_MUNICIPIO_PROVA\", IntegerType(), True),\n",
    "    StructField(\"NO_MUNICIPIO_PROVA\", StringType(), True),\n",
    "    StructField(\"CO_UF_PROVA\", StringType(), True),\n",
    "    StructField(\"SG_UF_PROVA\", StringType(), True),\n",
    "    StructField(\"TP_PRESENCA_CN\", IntegerType(), True),\n",
    "    StructField(\"TP_PRESENCA_CH\", IntegerType(), True),\n",
    "    StructField(\"TP_PRESENCA_LC\", IntegerType(), True),\n",
    "    StructField(\"TP_PRESENCA_MT\", IntegerType(), True),\n",
    "    StructField(\"CO_PROVA_CN\", IntegerType(), True),\n",
    "    StructField(\"CO_PROVA_CH\", IntegerType(), True),\n",
    "    StructField(\"CO_PROVA_LC\", IntegerType(), True),\n",
    "    StructField(\"CO_PROVA_MT\", IntegerType(), True),\n",
    "    StructField(\"NU_NOTA_CN\", IntegerType(), True),\n",
    "    StructField(\"NU_NOTA_CH\", IntegerType(), True),\n",
    "    StructField(\"NU_NOTA_LC\", IntegerType(), True),\n",
    "    StructField(\"NU_NOTA_MT\", IntegerType(), True),\n",
    "    StructField(\"TX_RESPOSTAS_CN\", StringType(), True),\n",
    "    StructField(\"TX_RESPOSTAS_CH\", StringType(), True),\n",
    "    StructField(\"TX_RESPOSTAS_LC\", StringType(), True),\n",
    "    StructField(\"TX_RESPOSTAS_MT\", StringType(), True),\n",
    "    StructField(\"TP_LINGUA\", IntegerType(), True),\n",
    "    StructField(\"TX_GABARITO_CN\", StringType(), True),\n",
    "    StructField(\"TX_GABARITO_CH\", StringType(), True),\n",
    "    StructField(\"TX_GABARITO_LC\", StringType(), True),\n",
    "    StructField(\"TX_GABARITO_MT\", StringType(), True),\n",
    "    StructField(\"TP_STATUS_REDACAO\", IntegerType(), True),\n",
    "    StructField(\"NU_NOTA_COMP1\", IntegerType(), True),\n",
    "    StructField(\"NU_NOTA_COMP2\", IntegerType(), True),\n",
    "    StructField(\"NU_NOTA_COMP3\", IntegerType(), True),\n",
    "    StructField(\"NU_NOTA_COMP4\", IntegerType(), True),\n",
    "    StructField(\"NU_NOTA_COMP5\", IntegerType(), True),\n",
    "    StructField(\"NU_NOTA_REDACAO\", IntegerType(), True),\n",
    "    StructField(\"Q001\", StringType(), True),\n",
    "    StructField(\"Q002\", StringType(), True),\n",
    "    StructField(\"Q003\", StringType(), True),\n",
    "    StructField(\"Q004\", StringType(), True),\n",
    "    StructField(\"Q005\", StringType(), True),\n",
    "    StructField(\"Q006\", StringType(), True),\n",
    "    StructField(\"Q007\", StringType(), True),\n",
    "    StructField(\"Q008\", StringType(), True),\n",
    "    StructField(\"Q009\", StringType(), True),\n",
    "    StructField(\"Q010\", StringType(), True),\n",
    "    StructField(\"Q011\", StringType(), True),\n",
    "    StructField(\"Q012\", StringType(), True),\n",
    "    StructField(\"Q013\", StringType(), True),\n",
    "    StructField(\"Q014\", StringType(), True),\n",
    "    StructField(\"Q015\", StringType(), True),\n",
    "    StructField(\"Q016\", StringType(), True),\n",
    "    StructField(\"Q017\", StringType(), True),\n",
    "    StructField(\"Q018\", StringType(), True),\n",
    "    StructField(\"Q019\", StringType(), True),\n",
    "    StructField(\"Q020\", StringType(), True),\n",
    "    StructField(\"Q021\", StringType(), True),\n",
    "    StructField(\"Q022\", StringType(), True),\n",
    "    StructField(\"Q023\", StringType(), True),\n",
    "    StructField(\"Q024\", StringType(), True),\n",
    "    StructField(\"Q025\", StringType(), True), \n",
    "])"
   ]
  },
  {
   "cell_type": "code",
   "execution_count": null,
   "metadata": {},
   "outputs": [],
   "source": [
    "microdados_read_path = 's3a://enem-pyspark-athena-bronze/2020/microdados/MICRODADOS_ENEM_2020.csv'\n",
    "microdados_write_path = 's3a://enem-pyspark-athena-silver/2020/microdados/'"
   ]
  },
  {
   "cell_type": "code",
   "execution_count": null,
   "metadata": {},
   "outputs": [],
   "source": [
    "df_microdados = spark.read \\\n",
    "        .options(delimiter=';', \n",
    "                 header='True',\n",
    "                 encoding='latin1') \\\n",
    "        .schema(schema_microdados) \\\n",
    "        .csv(microdados_read_path)"
   ]
  },
  {
   "cell_type": "code",
   "execution_count": null,
   "metadata": {},
   "outputs": [],
   "source": [
    "df_microdados.show(vertical=True)"
   ]
  },
  {
   "cell_type": "code",
   "execution_count": null,
   "metadata": {},
   "outputs": [],
   "source": [
    "df_microdados.printSchema()"
   ]
  },
  {
   "cell_type": "code",
   "execution_count": null,
   "metadata": {},
   "outputs": [],
   "source": [
    "schema_itens_prova = StructType([\n",
    "    StructField(\"CO_POSICAO\", IntegerType(), True),\n",
    "    StructField(\"SG_AREA\", StringType(), True),\n",
    "    StructField(\"CO_ITEM\", IntegerType(), True),\n",
    "    StructField(\"TX_GABARITO\", StringType(), True),\n",
    "    StructField(\"CO_HABILIDADE\", IntegerType(), True),\n",
    "    StructField(\"IN_ITEM_ABAN\", IntegerType(), True),\n",
    "    StructField(\"TX_MOTIVO_ABAN\", StringType(), True),\n",
    "    StructField(\"NU_PARAM_A\", DoubleType(), True),\n",
    "    StructField(\"NU_PARAM_B\", DoubleType(), True),\n",
    "    StructField(\"NU_PARAM_C\", DoubleType(), True),\n",
    "    StructField(\"TX_COR\", StringType(), True),\n",
    "    StructField(\"CO_PROVA\", IntegerType(), True),\n",
    "    StructField(\"TP_LINGUA\", IntegerType(), True),\n",
    "    StructField(\"IN_ITEM_ADAPTADO\", IntegerType(), True),\n",
    "    StructField(\"TP_VERSAO_DIGITAL\", IntegerType(), True),\n",
    "])"
   ]
  },
  {
   "cell_type": "code",
   "execution_count": null,
   "metadata": {},
   "outputs": [],
   "source": [
    "itens_prova_read_path = 's3a://enem-pyspark-athena-bronze/2020/itens_prova/ITENS_PROVA_2020.csv'\n",
    "itens_prova_write_path = 's3a://enem-pyspark-athena-silver/2020/itens_prova/'"
   ]
  },
  {
   "cell_type": "code",
   "execution_count": null,
   "metadata": {},
   "outputs": [],
   "source": [
    "df_itens_prova = spark.read \\\n",
    "        .options(delimiter=';', \n",
    "                 header='True',\n",
    "                 encoding='latin1') \\\n",
    "        .schema(schema_itens_prova) \\\n",
    "        .csv(itens_prova_read_path)"
   ]
  },
  {
   "cell_type": "code",
   "execution_count": null,
   "metadata": {},
   "outputs": [],
   "source": [
    "df_itens_prova.show()"
   ]
  },
  {
   "cell_type": "code",
   "execution_count": null,
   "metadata": {},
   "outputs": [],
   "source": [
    "df_itens_prova.printSchema()"
   ]
  },
  {
   "cell_type": "code",
   "execution_count": null,
   "metadata": {},
   "outputs": [],
   "source": [
    "df_itens_prova.write.mode('overwrite').parquet(itens_prova_write_path)"
   ]
  },
  {
   "cell_type": "code",
   "execution_count": null,
   "metadata": {},
   "outputs": [],
   "source": [
    "df_microdados.write.mode('overwrite').parquet(microdados_write_path)"
   ]
  }
 ],
 "metadata": {
  "kernelspec": {
   "display_name": "Python 3.8.10 ('venv': venv)",
   "language": "python",
   "name": "python3"
  },
  "language_info": {
   "codemirror_mode": {
    "name": "ipython",
    "version": 3
   },
   "file_extension": ".py",
   "mimetype": "text/x-python",
   "name": "python",
   "nbconvert_exporter": "python",
   "pygments_lexer": "ipython3",
   "version": "3.8.10"
  },
  "orig_nbformat": 4,
  "vscode": {
   "interpreter": {
    "hash": "36a3b9a8698c893d605e26504e3588b9b4dcfaa218e2b95252eb2ee8e9dd4c32"
   }
  }
 },
 "nbformat": 4,
 "nbformat_minor": 2
}
